{
 "cells": [
  {
   "cell_type": "code",
   "execution_count": null,
   "id": "5ec52566",
   "metadata": {},
   "outputs": [],
   "source": [
    "#Q.NO:- 1\n"
   ]
  },
  {
   "cell_type": "code",
   "execution_count": 1,
   "id": "57c8f6b9",
   "metadata": {},
   "outputs": [],
   "source": [
    "import matplotlib.pyplot as plt\n",
    "import pandas as pd"
   ]
  },
  {
   "cell_type": "code",
   "execution_count": 2,
   "id": "18e03c98",
   "metadata": {},
   "outputs": [],
   "source": [
    "data = {\n",
    "    \"Company\": [\"Allied Signal\", \"Bankers Trust\", \"General Mills\", \"ITT Industries\", \n",
    "                \"J.P.Morgan & Co.\", \"Lehman Brothers\", \"Marriott\", \"MCI\", \n",
    "                \"Merrill Lynch\", \"Microsoft\", \"Morgan Stanley\", \"Sun Microsystems\", \n",
    "                \"Travelers\", \"US Airways\", \"Warner-Lambert\"],\n",
    "    \"Measure X (%)\": [24.23, 25.53, 25.41, 24.14, 29.62, 28.25, 25.81, 24.39, \n",
    "                      40.26, 32.95, 91.36, 25.99, 39.42, 26.71, 35.00]\n",
    "}"
   ]
  },
  {
   "cell_type": "code",
   "execution_count": 3,
   "id": "bb27a348",
   "metadata": {},
   "outputs": [],
   "source": [
    "# Create DataFrame\n",
    "df = pd.DataFrame(data)"
   ]
  },
  {
   "cell_type": "code",
   "execution_count": 8,
   "id": "d69b64a0",
   "metadata": {},
   "outputs": [
    {
     "data": {
      "image/png": "[encoded data removed]",
      "text/plain": [
       "<Figure size 640x480 with 1 Axes>"
      ]
     },
     "metadata": {},
     "output_type": "display_data"
    }
   ],
   "source": [
    "# Plotting Boxplot\n",
    "plt.boxplot(df[\"Measure X (%)\"])\n",
    "plt.title('Boxplot of Measure X')\n",
    "plt.xlabel('Measure X (%)')\n",
    "plt.show()"
   ]
  },
  {
   "cell_type": "code",
   "execution_count": 11,
   "id": "996d7aad",
   "metadata": {},
   "outputs": [
    {
     "name": "stdout",
     "output_type": "stream",
     "text": [
      "Outliers:            Company  Measure X (%)\n",
      "10  Morgan Stanley          91.36\n"
     ]
    }
   ],
   "source": [
    "# Finding outliers\n",
    "q1 = df[\"Measure X (%)\"].quantile(0.25)\n",
    "q3 = df[\"Measure X (%)\"].quantile(0.75)\n",
    "iqr = q3 - q1\n",
    "lower_bound = q1 - 1.5 * iqr\n",
    "upper_bound = q3 + 1.5 * iqr\n",
    "\n",
    "outliers = df[(df[\"Measure X (%)\"] < lower_bound) | (df[\"Measure X (%)\"] > upper_bound)]\n",
    "print(\"Outliers:\", outliers)"
   ]
  },
  {
   "cell_type": "code",
   "execution_count": 20,
   "id": "27227a32",
   "metadata": {},
   "outputs": [
    {
     "name": "stdout",
     "output_type": "stream",
     "text": [
      "\n",
      "Mean: 33.27133333333333\n",
      "Standard Deviation: 16.945400921222028\n",
      "Variance: 287.1466123809524\n"
     ]
    }
   ],
   "source": [
    "# Calculate mean, standard deviation, and variance\n",
    "mean_x = df[\"Measure X (%)\"].mean()\n",
    "std_dev = df[\"Measure X (%)\"].std()\n",
    "variance = df[\"Measure X (%)\"].var()\n",
    "\n",
    "print(\"\\nMean:\", mean_x)\n",
    "print(\"Standard Deviation:\", std_dev)\n",
    "print(\"Variance:\", variance)"
   ]
  },
  {
   "cell_type": "code",
   "execution_count": null,
   "id": "b33866fa",
   "metadata": {},
   "outputs": [],
   "source": []
  },
  {
   "cell_type": "code",
   "execution_count": null,
   "id": "e9ce0747",
   "metadata": {},
   "outputs": [],
   "source": [
    "# Q.NO:- 5 d  "
   ]
  },
  {
   "cell_type": "code",
   "execution_count": 26,
   "id": "3ec3984c",
   "metadata": {},
   "outputs": [
    {
     "name": "stdout",
     "output_type": "stream",
     "text": [
      "Mean: 800.0\n",
      "Variance: 2160000.0\n",
      "Standard Deviation: 1469.6938456699068\n"
     ]
    }
   ],
   "source": [
    "# Define the probability distribution\n",
    "x_values = [-2000, -1000, 0, 1000, 2000, 3000]\n",
    "probabilities = [0.1, 0.1, 0.2, 0.2, 0.3, 0.1]\n",
    "\n",
    "# Calculate the mean\n",
    "mean = sum(x * p for x, p in zip(x_values, probabilities))\n",
    "\n",
    "# Calculate the variance\n",
    "variance = sum(p * (x - mean) ** 2 for x, p in zip(x_values, probabilities))\n",
    "\n",
    "# Calculate the standard deviation (square root of variance)\n",
    "standard_deviation = variance ** 0.5\n",
    "\n",
    "print(\"Mean:\", mean)\n",
    "print(\"Variance:\", variance)\n",
    "print(\"Standard Deviation:\", standard_deviation)\n"
   ]
  },
  {
   "cell_type": "code",
   "execution_count": null,
   "id": "cf9328ae",
   "metadata": {},
   "outputs": [],
   "source": []
  }
 ],
 "metadata": {
  "kernelspec": {
   "display_name": "Python 3 (ipykernel)",
   "language": "python",
   "name": "python3"
  },
  "language_info": {
   "codemirror_mode": {
    "name": "ipython",
    "version": 3
   },
   "file_extension": ".py",
   "mimetype": "text/x-python",
   "name": "python",
   "nbconvert_exporter": "python",
   "pygments_lexer": "ipython3",
   "version": "3.11.5"
  }
 },
 "nbformat": 4,
 "nbformat_minor": 5
}

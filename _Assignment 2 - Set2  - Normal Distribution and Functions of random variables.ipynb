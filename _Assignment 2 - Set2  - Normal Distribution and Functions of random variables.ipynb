{
 "cells": [
  {
   "cell_type": "code",
   "execution_count": null,
   "id": "a3cb724c",
   "metadata": {},
   "outputs": [],
   "source": [
    "#Q.NO:- 1"
   ]
  },
  {
   "cell_type": "code",
   "execution_count": 11,
   "id": "1bd6391a",
   "metadata": {},
   "outputs": [
    {
     "name": "stdout",
     "output_type": "stream",
     "text": [
      "Probability that the service manager cannot meet his commitment: 0.26598552904870054\n"
     ]
    }
   ],
   "source": [
    "from scipy.stats import norm\n",
    "\n",
    "# Parameters of the normal distribution\n",
    "mean = 45  # Mean of the distribution\n",
    "std_dev = 8  # Standard deviation of the distribution\n",
    "\n",
    "# Time when work begins after drop-off\n",
    "start_time = 10  # minutes\n",
    "\n",
    "# Time window for service completion\n",
    "window = 60 - start_time  # 60 minutes - start_time\n",
    "\n",
    "# Calculate the probability that the service time exceeds the time window\n",
    "probability = 1 - norm.cdf(window, loc=mean, scale=std_dev)\n",
    "\n",
    "print(\"Probability that the service manager cannot meet his commitment:\", probability)\n"
   ]
  },
  {
   "cell_type": "code",
   "execution_count": null,
   "id": "c236107e",
   "metadata": {},
   "outputs": [],
   "source": []
  },
  {
   "cell_type": "code",
   "execution_count": null,
   "id": "9c0cac39",
   "metadata": {},
   "outputs": [],
   "source": [
    "# Q.NO:- 2 a "
   ]
  },
  {
   "cell_type": "code",
   "execution_count": 2,
   "id": "7cc5bbdc",
   "metadata": {},
   "outputs": [
    {
     "name": "stdout",
     "output_type": "stream",
     "text": [
      "Probability of employees older than 44: 0.15865525393145707\n",
      "Probability of employees between 38 and 44: 0.3413447460685429\n",
      "More employees are older than 44 than between 38 and 44: False\n"
     ]
    }
   ],
   "source": [
    "from scipy.stats import norm\n",
    "\n",
    "# Given parameters\n",
    "mean = 38\n",
    "std_dev = 6\n",
    "\n",
    "# Calculate probabilities\n",
    "prob_older_than_44 = 1 - norm.cdf(44, loc=mean, scale=std_dev)\n",
    "prob_between_38_and_44 = norm.cdf(44, loc=mean, scale=std_dev) - norm.cdf(38, loc=mean, scale=std_dev)\n",
    "\n",
    "# Compare probabilities\n",
    "more_older_than_44 = prob_older_than_44 > prob_between_38_and_44\n",
    "\n",
    "print(\"Probability of employees older than 44:\", prob_older_than_44)\n",
    "print(\"Probability of employees between 38 and 44:\", prob_between_38_and_44)\n",
    "print(\"More employees are older than 44 than between 38 and 44:\", more_older_than_44)\n"
   ]
  },
  {
   "cell_type": "code",
   "execution_count": null,
   "id": "3bc041cf",
   "metadata": {},
   "outputs": [],
   "source": [
    "# Q.NO:- 2 b "
   ]
  },
  {
   "cell_type": "code",
   "execution_count": 3,
   "id": "475aaf87",
   "metadata": {},
   "outputs": [
    {
     "name": "stdout",
     "output_type": "stream",
     "text": [
      "Expected number of employees under the age of 30: 36.484487890347154\n"
     ]
    }
   ],
   "source": [
    "from scipy.stats import norm\n",
    "\n",
    "# Given parameters\n",
    "mean_age = 38\n",
    "std_dev = 6\n",
    "total_employees = 400\n",
    "age_cutoff = 30\n",
    "\n",
    "# Calculate the z-score\n",
    "z_score = (age_cutoff - mean_age) / std_dev\n",
    "\n",
    "# Calculate the probability of an employee's age being less than 30\n",
    "prob_under_30 = norm.cdf(z_score)\n",
    "\n",
    "# Calculate the expected number of employees under the age of 30\n",
    "expected_employees_under_30 = prob_under_30 * total_employees\n",
    "\n",
    "print(\"Expected number of employees under the age of 30:\", expected_employees_under_30)\n"
   ]
  },
  {
   "cell_type": "code",
   "execution_count": null,
   "id": "7876d06b",
   "metadata": {},
   "outputs": [],
   "source": []
  },
  {
   "cell_type": "code",
   "execution_count": null,
   "id": "efd50957",
   "metadata": {},
   "outputs": [],
   "source": [
    "# Q.NO:- 4"
   ]
  },
  {
   "cell_type": "code",
   "execution_count": 1,
   "id": "4df20660",
   "metadata": {},
   "outputs": [
    {
     "name": "stdout",
     "output_type": "stream",
     "text": [
      "a = 48.483413929021985\n",
      "b = 151.516586070978\n"
     ]
    }
   ],
   "source": [
    "import scipy.stats as stats\n",
    "\n",
    "# Mean and variance of the normal distribution\n",
    "mean = 100\n",
    "variance = 400\n",
    "\n",
    "# Standard deviation\n",
    "std_dev = variance**0.5\n",
    "\n",
    "# Find the z-scores corresponding to cumulative probabilities\n",
    "z_a = stats.norm.ppf(0.005)\n",
    "z_b = stats.norm.ppf(0.995)\n",
    "\n",
    "# Calculate the values of a and b\n",
    "a = mean + z_a * std_dev\n",
    "b = mean + z_b * std_dev\n",
    "\n",
    "print(\"a =\", a)\n",
    "print(\"b =\", b)\n"
   ]
  },
  {
   "cell_type": "code",
   "execution_count": null,
   "id": "b9640482",
   "metadata": {},
   "outputs": [],
   "source": []
  },
  {
   "cell_type": "code",
   "execution_count": null,
   "id": "ee246bd3",
   "metadata": {},
   "outputs": [],
   "source": [
    "#Q.NO:- 5 a "
   ]
  },
  {
   "cell_type": "code",
   "execution_count": 10,
   "id": "b8979141",
   "metadata": {},
   "outputs": [
    {
     "name": "stdout",
     "output_type": "stream",
     "text": [
      "Mean Profit is Rs 540 Million\n",
      "Standard Deviation is Rs 225.0 Million\n",
      "Rupee range: (99.00810347848784, 980.9918965215122) in Millions\n"
     ]
    }
   ],
   "source": [
    "import scipy.stats as stats\n",
    "\n",
    "# Mean and variance of Profit1 in million dollars\n",
    "mean1 = 5\n",
    "variance1 = 9\n",
    "\n",
    "# Mean and variance of Profit2 in million dollars\n",
    "mean2 = 7\n",
    "variance2 = 16\n",
    "\n",
    "# Conversion rate from dollars to Rupees\n",
    "conversion_rate = 45\n",
    "\n",
    "# Mean and variance of the total profit in million dollars\n",
    "Mean = mean1 + mean2\n",
    "Variance = variance1 + variance2\n",
    "\n",
    "# Convert mean and variance to Rupees\n",
    "mean_rupees = Mean * conversion_rate\n",
    "variance_rupees = Variance * (conversion_rate ** 2)\n",
    "\n",
    "# Standard deviation of the total profit in Rupees\n",
    "stdev_rupees = (variance_rupees) ** 0.5\n",
    "\n",
    "print('Mean Profit is Rs',mean_rupees ,'Million')\n",
    "print(\"Standard Deviation is Rs\",stdev_rupees,\"Million\")\n",
    "print(\"Rupee range:\",(stats.norm.interval(0.95,mean_rupees,stdev_rupees)),'in Millions')\n"
   ]
  },
  {
   "cell_type": "code",
   "execution_count": null,
   "id": "73d39970",
   "metadata": {},
   "outputs": [],
   "source": [
    "#Q.NO:- 5 b"
   ]
  },
  {
   "cell_type": "code",
   "execution_count": 19,
   "id": "6e9a3a68",
   "metadata": {},
   "outputs": [
    {
     "name": "stdout",
     "output_type": "stream",
     "text": [
      "5th percentile of profit (in Million Rupees) is 170.0\n"
     ]
    }
   ],
   "source": [
    "import numpy as np\n",
    "\n",
    "from scipy import stats\n",
    "\n",
    "from scipy.stats import norm\n",
    "\n",
    "mean_profit = 540\n",
    "stdev_profit = 225\n",
    "\n",
    "#To compute 5th Percentile, we use the formula X=μ + Zσ; wherein from z table, 5 percentile = -1.645\n",
    "X= 540+(-1.645)*(225)\n",
    "\n",
    "\n",
    "print('5th percentile of profit (in Million Rupees) is',np.round(X))\n",
    "\n"
   ]
  },
  {
   "cell_type": "code",
   "execution_count": null,
   "id": "c2c3452c",
   "metadata": {},
   "outputs": [],
   "source": [
    "#Q.NO:- 5 c "
   ]
  },
  {
   "cell_type": "code",
   "execution_count": 24,
   "id": "7739a6ff",
   "metadata": {},
   "outputs": [
    {
     "name": "stdout",
     "output_type": "stream",
     "text": [
      "Probability of making a loss for Division 1: 0.0477903522728147\n",
      "Probability of making a loss for Division 2: 0.040059156863817086\n"
     ]
    }
   ],
   "source": [
    "from scipy.stats import norm\n",
    "\n",
    "# Parameters for Profit1\n",
    "mean1 = 5\n",
    "std_dev1= 3  \n",
    "\n",
    "# Parameters for Profit2\n",
    "mean2 = 7\n",
    "std_dev2 = 4  \n",
    "\n",
    "# Calculate probabilities of making a loss for each division\n",
    "prob_loss_profit1 = stats.norm.cdf(0,5,3)\n",
    "prob_loss_profit2 = stats.norm.cdf(0,7,4)\n",
    "\n",
    "# Output results\n",
    "print(\"Probability of making a loss for Division 1:\", prob_loss_profit1)\n",
    "print(\"Probability of making a loss for Division 2:\", prob_loss_profit2)\n"
   ]
  },
  {
   "cell_type": "code",
   "execution_count": null,
   "id": "0b0c5524",
   "metadata": {},
   "outputs": [],
   "source": []
  }
 ],
 "metadata": {
  "kernelspec": {
   "display_name": "Python 3 (ipykernel)",
   "language": "python",
   "name": "python3"
  },
  "language_info": {
   "codemirror_mode": {
    "name": "ipython",
    "version": 3
   },
   "file_extension": ".py",
   "mimetype": "text/x-python",
   "name": "python",
   "nbconvert_exporter": "python",
   "pygments_lexer": "ipython3",
   "version": "3.11.5"
  }
 },
 "nbformat": 4,
 "nbformat_minor": 5
}

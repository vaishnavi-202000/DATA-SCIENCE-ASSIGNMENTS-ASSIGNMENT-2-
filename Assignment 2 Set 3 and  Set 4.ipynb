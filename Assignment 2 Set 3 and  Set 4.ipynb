{
 "cells": [
  {
   "cell_type": "code",
   "execution_count": null,
   "id": "3cb28b45",
   "metadata": {},
   "outputs": [],
   "source": [
    "# SET - 3"
   ]
  },
  {
   "cell_type": "code",
   "execution_count": null,
   "id": "95a2e626",
   "metadata": {},
   "outputs": [],
   "source": [
    "# Q.NO :- "
   ]
  },
  {
   "cell_type": "code",
   "execution_count": 6,
   "id": "3c0ad6b8",
   "metadata": {},
   "outputs": [
    {
     "name": "stdout",
     "output_type": "stream",
     "text": [
      "Z-score: -0.820782681668124\n",
      "p-value: 0.20588503245107104\n",
      "Fail to reject the null hypothesis: Mozilla does not necessarily have less than a 5% market share.\n"
     ]
    }
   ],
   "source": [
    "from scipy import stats\n",
    "import numpy as np\n",
    "\n",
    "p_hat = 0.046  # Sample proportion\n",
    "p = 0.05       # Population proportion under the null hypothesis\n",
    "n = 2000       # Sample size\n",
    "\n",
    "# Calculate Z-score\n",
    "z_score = (p_hat - p) / np.sqrt((p * (1 - p)) / n)\n",
    "print(\"Z-score:\", z_score)\n",
    "\n",
    "# Calculate p-value using cumulative distribution function (cdf)\n",
    "p_value = stats.norm.cdf(z_score)\n",
    "print(\"p-value:\", p_value)\n",
    "\n",
    "# Determine conclusion\n",
    "if p_value < alpha:\n",
    "    print(\"Reject the null hypothesis: Mozilla has less than a 5% market share.\")\n",
    "else:\n",
    "    print(\"Fail to reject the null hypothesis: Mozilla does not necessarily have less than a 5% market share.\")"
   ]
  },
  {
   "cell_type": "code",
   "execution_count": null,
   "id": "fdcb598e",
   "metadata": {},
   "outputs": [],
   "source": []
  },
  {
   "cell_type": "code",
   "execution_count": null,
   "id": "f2689eed",
   "metadata": {},
   "outputs": [],
   "source": [
    "# SET - 4  "
   ]
  },
  {
   "cell_type": "code",
   "execution_count": null,
   "id": "54184c32",
   "metadata": {},
   "outputs": [],
   "source": [
    "# Q.NO:-3"
   ]
  },
  {
   "cell_type": "code",
   "execution_count": 2,
   "id": "d8fa0b68",
   "metadata": {},
   "outputs": [
    {
     "name": "stdout",
     "output_type": "stream",
     "text": [
      "Probability of investigation: 0.211\n"
     ]
    }
   ],
   "source": [
    "import scipy.stats as stats\n",
    "\n",
    "# Parameters\n",
    "mean = 50  # Mean withdrawal amount\n",
    "std_dev = 40  # Standard deviation of withdrawal amount\n",
    "sample_size = 100  # Sample size\n",
    "lower_limit = 45  # Lower limit for investigation\n",
    "upper_limit = 55  # Upper limit for investigation\n",
    "\n",
    "# Calculate the standard error of the sample mean\n",
    "standard_error = std_dev / (sample_size ** 0.5)\n",
    "\n",
    "# Calculate the Z-scores for the lower and upper limits\n",
    "z_lower = (lower_limit - mean) / standard_error\n",
    "z_upper = (upper_limit - mean) / standard_error\n",
    "\n",
    "# Calculate the probability of Z being between the Z-scores\n",
    "probability = stats.norm.cdf(z_upper) - stats.norm.cdf(z_lower)\n",
    "\n",
    "# Probability of investigation\n",
    "probability_of_investigation = 1 - probability\n",
    "\n",
    "print(\"Probability of investigation:\", probability_of_investigation.round(3))\n"
   ]
  },
  {
   "cell_type": "code",
   "execution_count": null,
   "id": "4211a8e6",
   "metadata": {},
   "outputs": [],
   "source": []
  },
  {
   "cell_type": "code",
   "execution_count": null,
   "id": "488a908e",
   "metadata": {},
   "outputs": [],
   "source": [
    "# Q.NO:- 4"
   ]
  },
  {
   "cell_type": "code",
   "execution_count": 1,
   "id": "e4dba770",
   "metadata": {},
   "outputs": [
    {
     "name": "stdout",
     "output_type": "stream",
     "text": [
      "n = 245.86240000000004 , round off to 246\n"
     ]
    }
   ],
   "source": [
    "import numpy as np \n",
    "from scipy import stats\n",
    "from scipy.stats import norm \n",
    "\n",
    "#For 5%, z has to be +/-1.96\n",
    "\n",
    "## As z = (sample_mean-population-mean)/(standard deviation/sqrt(n))\n",
    "\n",
    "## So 1.96 = 5 /(40/sqrt(n))\n",
    "## => 1.96 = 5 * sqrt(n)/40\n",
    "## => sqrt(n) = (1.96*40)/5\n",
    "\n",
    "n = ((1.96*40)/5)**2\n",
    "print(\"n =\",n, \", round off to\", round(n))"
   ]
  },
  {
   "cell_type": "code",
   "execution_count": null,
   "id": "4a6a9543",
   "metadata": {},
   "outputs": [],
   "source": []
  }
 ],
 "metadata": {
  "kernelspec": {
   "display_name": "Python 3 (ipykernel)",
   "language": "python",
   "name": "python3"
  },
  "language_info": {
   "codemirror_mode": {
    "name": "ipython",
    "version": 3
   },
   "file_extension": ".py",
   "mimetype": "text/x-python",
   "name": "python",
   "nbconvert_exporter": "python",
   "pygments_lexer": "ipython3",
   "version": "3.11.5"
  }
 },
 "nbformat": 4,
 "nbformat_minor": 5
}
